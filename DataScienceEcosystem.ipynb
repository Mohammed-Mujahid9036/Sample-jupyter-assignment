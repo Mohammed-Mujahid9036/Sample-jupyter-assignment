{
 "cells": [
  {
   "cell_type": "markdown",
   "id": "5b5f3752-c880-4ae9-b6df-3eab15462629",
   "metadata": {},
   "source": [
    "# Data Science Tools and Ecosystem"
   ]
  },
  {
   "cell_type": "markdown",
   "id": "bd1d64a8-ab5c-491c-b6d0-e12d707f4f52",
   "metadata": {},
   "source": [
    "In this notebook, Data Science Tools and Ecosystem are summarized."
   ]
  },
  {
   "cell_type": "markdown",
   "id": "098c5b04-3c61-4ad1-a556-0f3518225a8d",
   "metadata": {},
   "source": [
    "__Objectives:__\n",
    "\n",
    "+ List of popular languages used in data science\n",
    "+ Hands on with RStudio\n",
    "+ Hands on with Github\n",
    "+ Hands on with Jupyter Notebook"
   ]
  },
  {
   "cell_type": "markdown",
   "id": "a3406852-b789-4ba5-8aec-ad9254f96aef",
   "metadata": {},
   "source": [
    "Some of the popular languages that Data Scientists use are:\n",
    "1. Python\n",
    "2. R\n",
    "3. Scala"
   ]
  },
  {
   "cell_type": "markdown",
   "id": "a81e812f-6ce3-40f6-9fec-f090a731902b",
   "metadata": {},
   "source": [
    "Some of the commonly used libraries used by Data Scientists include:\n",
    "1. Numpy\n",
    "2. Pandas\n",
    "3. Scikitlearn"
   ]
  },
  {
   "cell_type": "markdown",
   "id": "e97bd1f2-b75d-477d-bafe-8238b7af0a31",
   "metadata": {},
   "source": [
    "|Data Science Tools|\n",
    "|--------------|\n",
    "|IBM Watson Studio|\n",
    "|TensorFlow|\n",
    "|RStudio|\n",
    "|Jupyter Lab|"
   ]
  },
  {
   "cell_type": "markdown",
   "id": "b29d1ec0-55c0-42d8-be2a-00383f6396d4",
   "metadata": {},
   "source": [
    "### Below are a few examples of evaluating arithmetic expressions in Python"
   ]
  },
  {
   "cell_type": "code",
   "execution_count": 4,
   "id": "08f3a554-6fe0-49b0-8e2f-c1ec029d1aca",
   "metadata": {},
   "outputs": [
    {
     "data": {
      "text/plain": [
       "17"
      ]
     },
     "execution_count": 4,
     "metadata": {},
     "output_type": "execute_result"
    }
   ],
   "source": [
    "# This a simple arithmetic expression to multiply then add integers\n",
    "(3*4)+5"
   ]
  },
  {
   "cell_type": "code",
   "execution_count": 6,
   "id": "a1caea47-7a3f-42c4-b5c7-d81a8fa89300",
   "metadata": {},
   "outputs": [
    {
     "name": "stdout",
     "output_type": "stream",
     "text": [
      "3.3333333333333335\n"
     ]
    }
   ],
   "source": [
    "# This will convert 200 minutes to hours by diving by 60\n",
    "given_minutes = 200\n",
    "converted_to_hours = given_minutes/60\n",
    "print(converted_to_hours)"
   ]
  },
  {
   "cell_type": "markdown",
   "id": "e2167697-0440-4c45-bff2-c28bc33a4afd",
   "metadata": {},
   "source": [
    "## Author\n",
    "Mohammed Mujahid"
   ]
  },
  {
   "cell_type": "code",
   "execution_count": null,
   "id": "50a7d796-1604-4f31-a11e-5c8acea76214",
   "metadata": {},
   "outputs": [],
   "source": []
  }
 ],
 "metadata": {
  "kernelspec": {
   "display_name": "Python 3 (ipykernel)",
   "language": "python",
   "name": "python3"
  },
  "language_info": {
   "codemirror_mode": {
    "name": "ipython",
    "version": 3
   },
   "file_extension": ".py",
   "mimetype": "text/x-python",
   "name": "python",
   "nbconvert_exporter": "python",
   "pygments_lexer": "ipython3",
   "version": "3.11.9"
  }
 },
 "nbformat": 4,
 "nbformat_minor": 5
}
